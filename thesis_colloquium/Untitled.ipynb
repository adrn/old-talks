{
 "cells": [
  {
   "cell_type": "code",
   "execution_count": null,
   "metadata": {
    "collapsed": true
   },
   "outputs": [],
   "source": [
    "from __future__ import division, print_function\n",
    "import os\n",
    "import logging\n",
    "import glob\n",
    "\n",
    "# Third-party\n",
    "from astropy import log as logger\n",
    "from astropy.constants import G\n",
    "import astropy.coordinates as coord\n",
    "import astropy.units as u\n",
    "import matplotlib.pyplot as pl\n",
    "import numpy as np\n",
    "pl.style.use('apw-notebook')\n",
    "%matplotlib inline\n",
    "import h5py\n",
    "import matplotlib.animation as animation\n",
    "from astropy.stats import median_absolute_deviation\n",
    "\n",
    "from astroML.plotting.tools import draw_ellipse\n",
    "\n",
    "# Custom\n",
    "import gary.coordinates as gc\n",
    "import gary.dynamics as gd\n",
    "from gary.dynamics import mockstream\n",
    "import gary.integrate as gi\n",
    "import gary.potential as gp\n",
    "from gary.units import galactic, UnitSystem\n",
    "\n",
    "from scf import SCFSimulation"
   ]
  },
  {
   "cell_type": "code",
   "execution_count": null,
   "metadata": {
    "collapsed": false
   },
   "outputs": [],
   "source": [
    "rs = 10.*u.kpc\n",
    "M = ((220.*u.km/u.s)**2 * rs / G).to(u.Msun)\n",
    "potential = gp.IsochronePotential(m=M, b=rs, units=galactic)"
   ]
  },
  {
   "cell_type": "code",
   "execution_count": null,
   "metadata": {
    "collapsed": false
   },
   "outputs": [],
   "source": [
    "with h5py.File(\"/Users/adrian/projects/talks/thesis_colloquium/snap.h5\", 'r') as f:\n",
    "    print(list(f.keys()))\n",
    "    \n",
    "    usys = UnitSystem([u.Unit(x) for x in f['units'].attrs.values()] + [u.radian])\n",
    "    for i in range(3):\n",
    "        print((f['snapshots/{}'.format(i)].attrs['t'] * usys['time']).to(u.Myr))\n",
    "        \n",
    "    sim_dt = f['parameters'].attrs['dt']\n",
    "    dt = (sim_dt*usys['time']).to(u.Myr).value\n",
    "    pos = (f['snapshots/2/pos'][:]*usys['length']).to(u.kpc).value\n",
    "    vel = (f['snapshots/2/vel'][:]*usys['length']/usys['time']).to(u.km/u.s).value\n",
    "    tub = (f['snapshots/2/tub'][:]*usys['time']).to(u.Myr).value\n",
    "\n",
    "    cen_pos = (f['cen/pos'][:]*usys['length']).to(u.kpc).value\n",
    "    cen_vel = (f['cen/vel'][:]*usys['length']/usys['time']).to(u.km/u.s).value\n",
    "    cen_t = np.arange(cen_vel.shape[1])*sim_dt"
   ]
  },
  {
   "cell_type": "code",
   "execution_count": null,
   "metadata": {
    "collapsed": false
   },
   "outputs": [],
   "source": [
    "f77_path = \"/Users/adrian/projects/talks/thesis_colloquium/fortran/\"\n",
    "f77_cen = np.genfromtxt(os.path.join(f77_path, \"SCFCEN\"), names=['t','derp','x','y','z','vx','vy','vz'])\n",
    "for n in 'xyz':\n",
    "    f77_cen[n] = (f77_cen[n]*usys['length']).to(u.kpc).value\n",
    "    f77_cen['v'+n] = (f77_cen['v'+n]*usys['length']/usys['time']).to(u.km/u.s).value"
   ]
  },
  {
   "cell_type": "code",
   "execution_count": null,
   "metadata": {
    "collapsed": false
   },
   "outputs": [],
   "source": [
    "pl.plot(f77_cen['x'], f77_cen['y'])\n",
    "pl.plot(cen_pos[0], cen_pos[1])"
   ]
  },
  {
   "cell_type": "markdown",
   "metadata": {},
   "source": [
    "---"
   ]
  },
  {
   "cell_type": "code",
   "execution_count": null,
   "metadata": {
    "collapsed": false
   },
   "outputs": [],
   "source": [
    "snapfiles = glob.glob(os.path.join(f77_path,\"SNAP*\"))\n",
    "\n",
    "f77_tub = np.zeros((len(snapfiles),pos.shape[-1]))\n",
    "f77_pos = np.zeros((len(snapfiles),3,pos.shape[-1]))\n",
    "f77_vel = np.zeros((len(snapfiles),3,pos.shape[-1]))\n",
    "\n",
    "for i,snapfile in enumerate(snapfiles):\n",
    "    d = np.loadtxt(snapfile, usecols=[1,2,3,4,5,6,9], skiprows=1)\n",
    "    f77_pos[i] = d[:,:3].T\n",
    "    f77_vel[i] = d[:,3:6].T\n",
    "    f77_tub[i] = d[:,6]\n",
    "    \n",
    "f77_pos = (f77_pos*usys['length']).to(u.kpc)\n",
    "f77_vel = (f77_vel*usys['length']/usys['time']).to(u.kpc/u.Myr)"
   ]
  },
  {
   "cell_type": "code",
   "execution_count": null,
   "metadata": {
    "collapsed": true
   },
   "outputs": [],
   "source": [
    "f77_w = gd.CartesianPhaseSpacePosition(f77_pos[0], f77_vel[0])"
   ]
  },
  {
   "cell_type": "code",
   "execution_count": null,
   "metadata": {
    "collapsed": true
   },
   "outputs": [],
   "source": [
    "actions,angles,freqs = potential.action_angle(f77_w)"
   ]
  },
  {
   "cell_type": "code",
   "execution_count": null,
   "metadata": {
    "collapsed": false
   },
   "outputs": [],
   "source": [
    "pl.plot(freqs[0], freqs[1], ls='none')"
   ]
  },
  {
   "cell_type": "code",
   "execution_count": null,
   "metadata": {
    "collapsed": true
   },
   "outputs": [],
   "source": []
  }
 ],
 "metadata": {
  "kernelspec": {
   "display_name": "Environment (scfnew)",
   "language": "",
   "name": "scfnew"
  },
  "language_info": {
   "codemirror_mode": {
    "name": "ipython",
    "version": 3
   },
   "file_extension": ".py",
   "mimetype": "text/x-python",
   "name": "python",
   "nbconvert_exporter": "python",
   "pygments_lexer": "ipython3",
   "version": "3.5.1"
  }
 },
 "nbformat": 4,
 "nbformat_minor": 0
}