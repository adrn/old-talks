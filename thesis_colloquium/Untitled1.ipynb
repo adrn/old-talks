{
 "cells": [
  {
   "cell_type": "code",
   "execution_count": null,
   "metadata": {
    "collapsed": false
   },
   "outputs": [],
   "source": [
    "import os\n",
    "import astropy.units as u\n",
    "from astropy.coordinates.angles import rotation_matrix\n",
    "import numpy as np\n",
    "import matplotlib.pyplot as pl\n",
    "pl.style.use('apw-notebook')\n",
    "%matplotlib inline\n",
    "\n",
    "import gary.coordinates as gc\n",
    "import gary.dynamics as gd\n",
    "import gary.integrate as gi\n",
    "import gary.potential as gp\n",
    "from gary.units import galactic"
   ]
  },
  {
   "cell_type": "code",
   "execution_count": null,
   "metadata": {
    "collapsed": true
   },
   "outputs": [],
   "source": [
    "def compute_align_matrix(w):\n",
    "    x = w[:3].copy()\n",
    "    v = w[3:].copy()\n",
    "\n",
    "    # first rotate about z to put on x-z plane\n",
    "    theta = np.arctan2(x[1], x[0]) * u.radian\n",
    "    R1 = rotation_matrix(theta, 'z')\n",
    "    x = np.asarray(R1.dot(x))[0]\n",
    "    v = np.asarray(R1.dot(v))[0]\n",
    "\n",
    "    # now rotate about y to put on x axis\n",
    "    theta = np.arctan2(x[2], x[0]) * u.radian\n",
    "    R2 = rotation_matrix(-theta, 'y')\n",
    "    x = np.asarray(R2.dot(x))[0]\n",
    "    v = np.asarray(R2.dot(v))[0]\n",
    "\n",
    "    # now align L with z axis\n",
    "    # theta = np.arccos(L[2] / np.sqrt(np.sum(L**2))) * u.radian\n",
    "    L = np.cross(x, v)\n",
    "    theta = np.arctan2(L[2], L[1]) * u.radian\n",
    "    R3 = rotation_matrix(theta - 90*u.deg, 'x')\n",
    "    x = np.asarray(R3.dot(x))[0]\n",
    "    v = np.asarray(R3.dot(v))[0]\n",
    "\n",
    "    return R3*R2*R1\n",
    "\n",
    "def align_ensemble(ws):\n",
    "    R = compute_align_matrix(ws[-1,0])\n",
    "    new_x = np.array(R.dot(ws[-1,:,:3].T).T)\n",
    "    new_v = np.array(R.dot(ws[-1,:,3:].T).T)\n",
    "    new_w = np.vstack((new_x.T, new_v.T)).T\n",
    "    return new_w"
   ]
  },
  {
   "cell_type": "code",
   "execution_count": null,
   "metadata": {
    "collapsed": true
   },
   "outputs": [],
   "source": [
    "name = 'strong-chaos'\n",
    "path = \"/Users/adrian/projects/scf_fortran/simulations/runs/{0}/\".format(name)"
   ]
  },
  {
   "cell_type": "code",
   "execution_count": null,
   "metadata": {
    "collapsed": false
   },
   "outputs": [],
   "source": [
    "w = np.genfromtxt(os.path.join(path, \"SNAP072\"), \n",
    "                  usecols=range(1,7), skip_header=1)\n",
    "cen = np.genfromtxt(os.path.join(path, \"SCFCEN\"), \n",
    "                    usecols=range(2,8), skip_header=1)\n",
    "w = align_ensemble(np.vstack((cen[-1],w))[None])"
   ]
  },
  {
   "cell_type": "markdown",
   "metadata": {},
   "source": [
    "## Compute frequencies"
   ]
  },
  {
   "cell_type": "code",
   "execution_count": null,
   "metadata": {
    "collapsed": true
   },
   "outputs": [],
   "source": [
    "import superfreq as sf"
   ]
  },
  {
   "cell_type": "code",
   "execution_count": null,
   "metadata": {
    "collapsed": true
   },
   "outputs": [],
   "source": [
    "def compute_all_freqs(t, orbits, hamming_p=1, nintvec=10, force_cartesian=False):\n",
    "    allfreqs = []\n",
    "    allamps = []\n",
    "    for i in range(orbits.shape[1]):\n",
    "        fs = sf.orbit_to_fs(orbits[:,i])\n",
    "        sf = SuperFreq(orbits[:,i].t, p=hamming_p)\n",
    "\n",
    "        try:\n",
    "            freqs,d,ixs = sf.find_fundamental_frequencies(fs, nintvec=nintvec)\n",
    "        except:\n",
    "            allfreqs.append([np.nan,np.nan,np.nan])\n",
    "            allamps.append([np.nan,np.nan,np.nan])\n",
    "            continue\n",
    "\n",
    "        allfreqs.append(freqs.tolist())\n",
    "        allamps.append(d['|A|'][ixs].tolist())\n",
    "\n",
    "    allfreqs = np.array(allfreqs)\n",
    "    allamps = np.array(allamps)\n",
    "\n",
    "    return allfreqs, allamps"
   ]
  },
  {
   "cell_type": "code",
   "execution_count": null,
   "metadata": {
    "collapsed": false
   },
   "outputs": [],
   "source": [
    "fig,ax = pl.subplots(1,1,figsize=(6,6))\n",
    "\n",
    "ax.plot(w[:,0], w[:,1], linestyle='none', alpha=0.4, ms=4, rasterized=True)\n",
    "\n",
    "ax.set_xlim(-1000,7500)\n",
    "ax.set_ylim(-4250,4250)\n",
    "fig.tight_layout()\n",
    "\n",
    "# _ix = w[:,1] > 0\n",
    "# ax.plot(w[_ix,0], w[_ix,1], linestyle='none', alpha=0.4, ms=4, rasterized=True)\n",
    "# ax.plot(w[~_ix,0], w[~_ix,1], linestyle='none', alpha=0.4, ms=4, rasterized=True)\n",
    "# axes[0].plot(w[~_ix,0] / r_s, \n",
    "#              w[~_ix,1] / r_s, \n",
    "#              linestyle='none', alpha=0.4, ms=4, rasterized=True)\n",
    "\n",
    "# axes[0].set_xlim(-1,2)\n",
    "# axes[0].set_ylim(-1.5,1.5)\n",
    "\n",
    "# med_ff = np.median(freqs[name][1:], axis=0)[None]\n",
    "# ff = (freqs[name][1:] - med_ff)/med_ff * 100.\n",
    "# axes[1].plot(ff[:,0], ff[:,2],\n",
    "#              linestyle='none', alpha=0.5, ms=4, rasterized=True)\n",
    "\n",
    "# axes[1].set_xlim(-5,5)\n",
    "# axes[1].set_ylim(-5,5)\n",
    "# #     axes[1].set_xlim(-1,1)\n",
    "# #     axes[1].set_ylim(-1,1)\n",
    "\n",
    "# axes[0].xaxis.set_visible(False)\n",
    "# axes[0].yaxis.set_visible(False)\n",
    "\n",
    "# axes[1].xaxis.set_visible(False)\n",
    "# axes[1].yaxis.set_visible(False)\n",
    "\n",
    "# for ax in axes:\n",
    "#     ax.set_aspect('equal')\n",
    "# fig.subplots_adjust(wspace=0.1)"
   ]
  },
  {
   "cell_type": "code",
   "execution_count": null,
   "metadata": {
    "collapsed": false
   },
   "outputs": [],
   "source": [
    "fig,ax = pl.subplots(1,1,figsize=(6,6))\n",
    "\n",
    "ax.plot(w[:,1], w[:,2], linestyle='none', alpha=0.75, ms=4, rasterized=True)\n",
    "\n",
    "ax.set_xlim(-3000,3000)\n",
    "ax.set_ylim(-3000,3000)\n",
    "\n",
    "fig.tight_layout()"
   ]
  },
  {
   "cell_type": "code",
   "execution_count": null,
   "metadata": {
    "collapsed": false
   },
   "outputs": [],
   "source": [
    "fig,ax = pl.subplots(1,1,figsize=(6,6))\n",
    "\n",
    "ax.plot(w[:,0], w[:,1]-80, linestyle='none', alpha=0.75, ms=4, rasterized=True)\n",
    "\n",
    "ax.set_xlim(6000,7000)\n",
    "ax.set_ylim(-500,500)\n",
    "\n",
    "fig.tight_layout()"
   ]
  },
  {
   "cell_type": "code",
   "execution_count": null,
   "metadata": {
    "collapsed": true
   },
   "outputs": [],
   "source": []
  }
 ],
 "metadata": {
  "kernelspec": {
   "display_name": "Environment (scfnew)",
   "language": "",
   "name": "scfnew"
  },
  "language_info": {
   "codemirror_mode": {
    "name": "ipython",
    "version": 3
   },
   "file_extension": ".py",
   "mimetype": "text/x-python",
   "name": "python",
   "nbconvert_exporter": "python",
   "pygments_lexer": "ipython3",
   "version": "3.5.1"
  }
 },
 "nbformat": 4,
 "nbformat_minor": 0
}